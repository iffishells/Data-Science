{
  "nbformat": 4,
  "nbformat_minor": 0,
  "metadata": {
    "colab": {
      "name": "Data-Analysis-Basic-Analysis.ipynb",
      "private_outputs": true,
      "provenance": [],
      "collapsed_sections": [],
      "authorship_tag": "ABX9TyMUVToWCONH0QcKidty7VWY",
      "include_colab_link": true
    },
    "kernelspec": {
      "name": "python3",
      "display_name": "Python 3"
    },
    "language_info": {
      "name": "python"
    }
  },
  "cells": [
    {
      "cell_type": "markdown",
      "metadata": {
        "id": "view-in-github",
        "colab_type": "text"
      },
      "source": [
        "<a href=\"https://colab.research.google.com/github/iffishells/Data-Science/blob/main/Data_Analysis_Basic_Analysis.ipynb\" target=\"_parent\"><img src=\"https://colab.research.google.com/assets/colab-badge.svg\" alt=\"Open In Colab\"/></a>"
      ]
    },
    {
      "cell_type": "markdown",
      "metadata": {
        "id": "o4xSiZOhiR8j"
      },
      "source": [
        "**Data Analysis** - Basic **Analysis** \n",
        "\n",
        "Text analysis is a machine learning technique that allows companies to automatically understand text data, such as tweets, emails, support tickets, product reviews, and survey responses.\n"
      ]
    },
    {
      "cell_type": "code",
      "metadata": {
        "id": "gXMPsWMyiRnP"
      },
      "source": [
        "text = \"Collocation helps identify words that commonly co-occur.'\\n' For example, in customer reviews on a hotel booking website, the words 'air' and 'conditioning' are more likely to co-occur rather than appear individually.\\n Bigrams (two adjacent words e.g. 'air conditioning' or 'customer support') and trigrams (three adjacent words e.g. 'out of office' or 'to be continued') are the most common types of collocation you'll need to look out for. \\n Collocation can be helpful to identify hidden semantic structures and improve the granularity of the insights by counting bigrams and trigrams as one word.\""
      ],
      "execution_count": null,
      "outputs": []
    },
    {
      "cell_type": "code",
      "metadata": {
        "id": "xqcZ7RnwhtSp"
      },
      "source": [
        "text"
      ],
      "execution_count": null,
      "outputs": []
    },
    {
      "cell_type": "code",
      "metadata": {
        "id": "CosbQRKgpcwp"
      },
      "source": [
        "docs = text.split(\"\\n\")\n",
        "docs"
      ],
      "execution_count": null,
      "outputs": []
    },
    {
      "cell_type": "code",
      "metadata": {
        "id": "yQ1YoN2Xph58"
      },
      "source": [
        "## find the number of sentance\n",
        "# \" . \" point to end the sentance \n",
        "noSent = 0\n",
        "for d in docs:\n",
        "    for char in d:\n",
        "        if char == \".\":\n",
        "            noSent+=1\n",
        "\n",
        "noSent"
      ],
      "execution_count": null,
      "outputs": []
    },
    {
      "cell_type": "code",
      "metadata": {
        "id": "-GZTKfTT0Yp0"
      },
      "source": [
        "# Other way\n",
        "noSent = 0\n",
        "\n",
        "for d in docs:\n",
        "    index = 0\n",
        "    while index !=-1:\n",
        "\n",
        "        # syntax\n",
        "        # find(What you find to search , from , where) return index\n",
        "        index = d.find('.',index+1,len(d))\n",
        "        # print(index)\n",
        "        noSent +=1\n",
        "    noSent-=1\n",
        "\n",
        "noSent"
      ],
      "execution_count": null,
      "outputs": []
    },
    {
      "cell_type": "markdown",
      "metadata": {
        "id": "GwOsCyal1pHQ"
      },
      "source": [
        "***find the Number of words in the Documnets***"
      ]
    },
    {
      "cell_type": "code",
      "metadata": {
        "id": "yk5lF53H1V6i"
      },
      "source": [
        "noWords = 0\n",
        "\n",
        "for d in docs:\n",
        "    words = d.split(\" \")\n",
        "    print(words)\n",
        "    noWords += len(words)\n",
        "\n",
        "noWords"
      ],
      "execution_count": null,
      "outputs": []
    },
    {
      "cell_type": "markdown",
      "metadata": {
        "id": "LL6542vg2sKZ"
      },
      "source": [
        "## *Building the Dictionary*"
      ]
    },
    {
      "cell_type": "code",
      "metadata": {
        "id": "ipBDYU1y2K93"
      },
      "source": [
        "vacub = []\n",
        "\n",
        "for d in docs:\n",
        "\n",
        "    words = d.split(\" \")\n",
        "\n",
        "    for word in words:\n",
        "        if word not in vacub:\n",
        "            vacub.append(word)\n",
        "\n",
        "vacub"
      ],
      "execution_count": null,
      "outputs": []
    },
    {
      "cell_type": "markdown",
      "metadata": {
        "id": "ioEJr67L3S7V"
      },
      "source": [
        "## *VacubSize*"
      ]
    },
    {
      "cell_type": "code",
      "metadata": {
        "id": "RGW1Ybeg3LjF"
      },
      "source": [
        "vacubSize = len(vacub)\n",
        "vacubSize"
      ],
      "execution_count": null,
      "outputs": []
    },
    {
      "cell_type": "markdown",
      "metadata": {
        "id": "2GhCqnrf3sMs"
      },
      "source": [
        "# *Sentance per Document*"
      ]
    },
    {
      "cell_type": "code",
      "metadata": {
        "id": "u8lpk9v_3fLn"
      },
      "source": [
        "noSent / len(docs)"
      ],
      "execution_count": null,
      "outputs": []
    },
    {
      "cell_type": "markdown",
      "metadata": {
        "id": "ll-3kP1E31rP"
      },
      "source": [
        "# *words per sentance*"
      ]
    },
    {
      "cell_type": "code",
      "metadata": {
        "id": "rkkvbH4S3zpl"
      },
      "source": [
        "noWords / noSent"
      ],
      "execution_count": null,
      "outputs": []
    },
    {
      "cell_type": "markdown",
      "metadata": {
        "id": "e1PAM9vs394Y"
      },
      "source": [
        "## *Word per Document*"
      ]
    },
    {
      "cell_type": "code",
      "metadata": {
        "id": "2vOhboom37Tm"
      },
      "source": [
        "noWords / len(docs)"
      ],
      "execution_count": null,
      "outputs": []
    },
    {
      "cell_type": "markdown",
      "metadata": {
        "id": "xYRoJAyd4L-P"
      },
      "source": [
        "# *Words per Unique words*"
      ]
    },
    {
      "cell_type": "code",
      "metadata": {
        "id": "VPCB7KWl4FKE"
      },
      "source": [
        "noWords / vacubSize"
      ],
      "execution_count": null,
      "outputs": []
    },
    {
      "cell_type": "markdown",
      "metadata": {
        "id": "-Ij2wxD-4WhY"
      },
      "source": [
        "# *Char per Words*"
      ]
    },
    {
      "cell_type": "code",
      "metadata": {
        "id": "q1Cx21O94R_V"
      },
      "source": [
        "nochar = 0\n",
        "for d in docs:\n",
        "    for char in d:\n",
        "        nochar +=1\n",
        "\n",
        "nochar\n",
        "\n",
        "\n",
        "\n"
      ],
      "execution_count": null,
      "outputs": []
    },
    {
      "cell_type": "code",
      "metadata": {
        "id": "H6mclINd5B6E"
      },
      "source": [
        "nochar / noWords"
      ],
      "execution_count": null,
      "outputs": []
    },
    {
      "cell_type": "code",
      "metadata": {
        "id": "bjnFKvnQ5QKW"
      },
      "source": [
        "# Another option\n",
        "noAllchar = 0\n",
        "for d in docs:\n",
        "    noAllchar +=len(d)\n",
        "\n",
        "noAllchar / noWords"
      ],
      "execution_count": null,
      "outputs": []
    },
    {
      "cell_type": "code",
      "metadata": {
        "id": "k1jvkrIy5_V2"
      },
      "source": [
        ""
      ],
      "execution_count": null,
      "outputs": []
    }
  ]
}