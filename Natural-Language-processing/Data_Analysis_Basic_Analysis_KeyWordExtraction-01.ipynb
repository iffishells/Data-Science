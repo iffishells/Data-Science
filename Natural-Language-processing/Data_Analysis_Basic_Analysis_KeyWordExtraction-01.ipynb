{
 "cells": [
  {
   "cell_type": "markdown",
   "metadata": {
    "colab_type": "text",
    "id": "view-in-github"
   },
   "source": [
    "<a href=\"https://colab.research.google.com/github/iffishells/Data-Science/blob/main/Data_Analysis_Basic_Analysis_KeyWordExtraction.ipynb\" target=\"_parent\"><img src=\"https://colab.research.google.com/assets/colab-badge.svg\" alt=\"Open In Colab\"/></a>"
   ]
  },
  {
   "cell_type": "markdown",
   "metadata": {
    "id": "o4xSiZOhiR8j"
   },
   "source": [
    "**Data Analysis** - Basic **Analysis** \n",
    "\n",
    "Text analysis is a machine learning technique that allows companies to automatically understand text data, such as tweets, emails, support tickets, product reviews, and survey responses.\n"
   ]
  },
  {
   "cell_type": "code",
   "execution_count": 77,
   "metadata": {
    "id": "gXMPsWMyiRnP"
   },
   "outputs": [],
   "source": [
    "text = '''The culmination of nearly four years of continuous work, \\n The Encyclopedia of Systemic Neuro-Linguistic Programming and NLP New Coding written by Robert Dilts \\n Judith DeLozier provides a fascinating and comprehensive guide to the field of NLP.\\n\n",
    "This beautifully presented, hardbound 2-volume set includes \\n\n",
    "descriptions of fundamental techniques and models \\n\n",
    "definitions of core NLP concepts \\n\n",
    "biographical entries for key developers and contributors \\n\n",
    "historical influences that were sources of key NLP ideas and concepts \\n\n",
    "exemplars who served as the initial models for NLP \\n\n",
    "fields and disciplines. related to NLP \\n\n",
    "extensive illustrations, tables, charts, worksheets, and questionnaires \\n\n",
    "biography of reference texts and related readings \\n\n",
    " comprehensive index with cross-references \\n\n",
    "\n",
    "A distinguishing feature of this Encyclopedia . is its emphasis on knowledge that can. be pragmatically applied to your life experience. \\nThis is expressed by the large number of exercises and activities.'''"
   ]
  },
  {
   "cell_type": "code",
   "execution_count": 78,
   "metadata": {
    "id": "xqcZ7RnwhtSp"
   },
   "outputs": [
    {
     "data": {
      "text/plain": [
       "'The culmination of nearly four years of continuous work, \\n The Encyclopedia of Systemic Neuro-Linguistic Programming and NLP New Coding written by Robert Dilts \\n Judith DeLozier provides a fascinating and comprehensive guide to the field of NLP.\\n\\nThis beautifully presented, hardbound 2-volume set includes \\n\\ndescriptions of fundamental techniques and models \\n\\ndefinitions of core NLP concepts \\n\\nbiographical entries for key developers and contributors \\n\\nhistorical influences that were sources of key NLP ideas and concepts \\n\\nexemplars who served as the initial models for NLP \\n\\nfields and disciplines. related to NLP \\n\\nextensive illustrations, tables, charts, worksheets, and questionnaires \\n\\nbiography of reference texts and related readings \\n\\n comprehensive index with cross-references \\n\\n\\nA distinguishing feature of this Encyclopedia . is its emphasis on knowledge that can. be pragmatically applied to your life experience. \\nThis is expressed by the large number of exercises and activities.'"
      ]
     },
     "execution_count": 78,
     "metadata": {},
     "output_type": "execute_result"
    }
   ],
   "source": [
    "text"
   ]
  },
  {
   "cell_type": "code",
   "execution_count": 79,
   "metadata": {
    "id": "CosbQRKgpcwp"
   },
   "outputs": [
    {
     "name": "stdout",
     "output_type": "stream",
     "text": [
      "Lenght of docs :  27\n"
     ]
    },
    {
     "data": {
      "text/plain": [
       "['The culmination of nearly four years of continuous work, ',\n",
       " ' The Encyclopedia of Systemic Neuro-Linguistic Programming and NLP New Coding written by Robert Dilts ',\n",
       " ' Judith DeLozier provides a fascinating and comprehensive guide to the field of NLP.',\n",
       " '',\n",
       " 'This beautifully presented, hardbound 2-volume set includes ',\n",
       " '',\n",
       " 'descriptions of fundamental techniques and models ',\n",
       " '',\n",
       " 'definitions of core NLP concepts ',\n",
       " '',\n",
       " 'biographical entries for key developers and contributors ',\n",
       " '',\n",
       " 'historical influences that were sources of key NLP ideas and concepts ',\n",
       " '',\n",
       " 'exemplars who served as the initial models for NLP ',\n",
       " '',\n",
       " 'fields and disciplines. related to NLP ',\n",
       " '',\n",
       " 'extensive illustrations, tables, charts, worksheets, and questionnaires ',\n",
       " '',\n",
       " 'biography of reference texts and related readings ',\n",
       " '',\n",
       " ' comprehensive index with cross-references ',\n",
       " '',\n",
       " '',\n",
       " 'A distinguishing feature of this Encyclopedia . is its emphasis on knowledge that can. be pragmatically applied to your life experience. ',\n",
       " 'This is expressed by the large number of exercises and activities.']"
      ]
     },
     "execution_count": 79,
     "metadata": {},
     "output_type": "execute_result"
    }
   ],
   "source": [
    "docs = text.split('\\n')\n",
    "print(\"Lenght of docs : \",len(docs) )\n",
    "docs"
   ]
  },
  {
   "cell_type": "code",
   "execution_count": 80,
   "metadata": {
    "id": "yQ1YoN2Xph58"
   },
   "outputs": [
    {
     "data": {
      "text/plain": [
       "6"
      ]
     },
     "execution_count": 80,
     "metadata": {},
     "output_type": "execute_result"
    }
   ],
   "source": [
    "## find the number of sentance\n",
    "# \" . \" point to end the sentance \n",
    "noSent = 0\n",
    "for d in docs:\n",
    "    # print(\"One sentance  : \",d)\n",
    "    for char in d:\n",
    "        # print(\"Char in Sentance : \",char)\n",
    "        if char == \".\":\n",
    "            noSent+=1\n",
    "\n",
    "noSent"
   ]
  },
  {
   "cell_type": "code",
   "execution_count": 81,
   "metadata": {
    "id": "-GZTKfTT0Yp0"
   },
   "outputs": [
    {
     "data": {
      "text/plain": [
       "6"
      ]
     },
     "execution_count": 81,
     "metadata": {},
     "output_type": "execute_result"
    }
   ],
   "source": [
    "# Other way\n",
    "noSent = 0\n",
    "\n",
    "for d in docs:\n",
    "    index = 0\n",
    "    while index !=-1:\n",
    "\n",
    "        # syntax\n",
    "        # find(What you find to search , from , where) return index\n",
    "        index = d.find('.',index+1,len(d))\n",
    "        # print(index)\n",
    "        noSent +=1\n",
    "    noSent-=1\n",
    "\n",
    "noSent"
   ]
  },
  {
   "cell_type": "markdown",
   "metadata": {
    "id": "GwOsCyal1pHQ"
   },
   "source": [
    "***find the Number of words in the Documnets***"
   ]
  },
  {
   "cell_type": "code",
   "execution_count": 82,
   "metadata": {
    "id": "yk5lF53H1V6i"
   },
   "outputs": [
    {
     "name": "stdout",
     "output_type": "stream",
     "text": [
      "['The', 'culmination', 'of', 'nearly', 'four', 'years', 'of', 'continuous', 'work,', '']\n",
      "['', 'The', 'Encyclopedia', 'of', 'Systemic', 'Neuro-Linguistic', 'Programming', 'and', 'NLP', 'New', 'Coding', 'written', 'by', 'Robert', 'Dilts', '']\n",
      "['', 'Judith', 'DeLozier', 'provides', 'a', 'fascinating', 'and', 'comprehensive', 'guide', 'to', 'the', 'field', 'of', 'NLP.']\n",
      "['']\n",
      "['This', 'beautifully', 'presented,', 'hardbound', '2-volume', 'set', 'includes', '']\n",
      "['']\n",
      "['descriptions', 'of', 'fundamental', 'techniques', 'and', 'models', '']\n",
      "['']\n",
      "['definitions', 'of', 'core', 'NLP', 'concepts', '']\n",
      "['']\n",
      "['biographical', 'entries', 'for', 'key', 'developers', 'and', 'contributors', '']\n",
      "['']\n",
      "['historical', 'influences', 'that', 'were', 'sources', 'of', 'key', 'NLP', 'ideas', 'and', 'concepts', '']\n",
      "['']\n",
      "['exemplars', 'who', 'served', 'as', 'the', 'initial', 'models', 'for', 'NLP', '']\n",
      "['']\n",
      "['fields', 'and', 'disciplines.', 'related', 'to', 'NLP', '']\n",
      "['']\n",
      "['extensive', 'illustrations,', 'tables,', 'charts,', 'worksheets,', 'and', 'questionnaires', '']\n",
      "['']\n",
      "['biography', 'of', 'reference', 'texts', 'and', 'related', 'readings', '']\n",
      "['']\n",
      "['', 'comprehensive', 'index', 'with', 'cross-references', '']\n",
      "['']\n",
      "['']\n",
      "['A', 'distinguishing', 'feature', 'of', 'this', 'Encyclopedia', '.', 'is', 'its', 'emphasis', 'on', 'knowledge', 'that', 'can.', 'be', 'pragmatically', 'applied', 'to', 'your', 'life', 'experience.', '']\n",
      "['This', 'is', 'expressed', 'by', 'the', 'large', 'number', 'of', 'exercises', 'and', 'activities.']\n"
     ]
    },
    {
     "data": {
      "text/plain": [
       "165"
      ]
     },
     "execution_count": 82,
     "metadata": {},
     "output_type": "execute_result"
    }
   ],
   "source": [
    "noWords = 0\n",
    "\n",
    "for d in docs:\n",
    "    words = d.split(\" \")\n",
    "    print(words)\n",
    "    noWords += len(words)\n",
    "\n",
    "noWords"
   ]
  },
  {
   "cell_type": "markdown",
   "metadata": {
    "id": "LL6542vg2sKZ"
   },
   "source": [
    "## *Building the Dictionary*"
   ]
  },
  {
   "cell_type": "code",
   "execution_count": 83,
   "metadata": {
    "id": "ipBDYU1y2K93"
   },
   "outputs": [
    {
     "data": {
      "text/plain": [
       "['The',\n",
       " 'culmination',\n",
       " 'of',\n",
       " 'nearly',\n",
       " 'four',\n",
       " 'years',\n",
       " 'continuous',\n",
       " 'work,',\n",
       " '',\n",
       " 'Encyclopedia',\n",
       " 'Systemic',\n",
       " 'Neuro-Linguistic',\n",
       " 'Programming',\n",
       " 'and',\n",
       " 'NLP',\n",
       " 'New',\n",
       " 'Coding',\n",
       " 'written',\n",
       " 'by',\n",
       " 'Robert',\n",
       " 'Dilts',\n",
       " 'Judith',\n",
       " 'DeLozier',\n",
       " 'provides',\n",
       " 'a',\n",
       " 'fascinating',\n",
       " 'comprehensive',\n",
       " 'guide',\n",
       " 'to',\n",
       " 'the',\n",
       " 'field',\n",
       " 'NLP.',\n",
       " 'This',\n",
       " 'beautifully',\n",
       " 'presented,',\n",
       " 'hardbound',\n",
       " '2-volume',\n",
       " 'set',\n",
       " 'includes',\n",
       " 'descriptions',\n",
       " 'fundamental',\n",
       " 'techniques',\n",
       " 'models',\n",
       " 'definitions',\n",
       " 'core',\n",
       " 'concepts',\n",
       " 'biographical',\n",
       " 'entries',\n",
       " 'for',\n",
       " 'key',\n",
       " 'developers',\n",
       " 'contributors',\n",
       " 'historical',\n",
       " 'influences',\n",
       " 'that',\n",
       " 'were',\n",
       " 'sources',\n",
       " 'ideas',\n",
       " 'exemplars',\n",
       " 'who',\n",
       " 'served',\n",
       " 'as',\n",
       " 'initial',\n",
       " 'fields',\n",
       " 'disciplines.',\n",
       " 'related',\n",
       " 'extensive',\n",
       " 'illustrations,',\n",
       " 'tables,',\n",
       " 'charts,',\n",
       " 'worksheets,',\n",
       " 'questionnaires',\n",
       " 'biography',\n",
       " 'reference',\n",
       " 'texts',\n",
       " 'readings',\n",
       " 'index',\n",
       " 'with',\n",
       " 'cross-references',\n",
       " 'A',\n",
       " 'distinguishing',\n",
       " 'feature',\n",
       " 'this',\n",
       " '.',\n",
       " 'is',\n",
       " 'its',\n",
       " 'emphasis',\n",
       " 'on',\n",
       " 'knowledge',\n",
       " 'can.',\n",
       " 'be',\n",
       " 'pragmatically',\n",
       " 'applied',\n",
       " 'your',\n",
       " 'life',\n",
       " 'experience.',\n",
       " 'expressed',\n",
       " 'large',\n",
       " 'number',\n",
       " 'exercises',\n",
       " 'activities.']"
      ]
     },
     "execution_count": 83,
     "metadata": {},
     "output_type": "execute_result"
    }
   ],
   "source": [
    "vacub = []\n",
    "\n",
    "for d in docs:\n",
    "\n",
    "    words = d.split(\" \")\n",
    "\n",
    "    for word in words:\n",
    "        if word not in vacub:\n",
    "            vacub.append(word)\n",
    "\n",
    "vacub"
   ]
  },
  {
   "cell_type": "markdown",
   "metadata": {
    "id": "ioEJr67L3S7V"
   },
   "source": [
    "## *VacubSize*"
   ]
  },
  {
   "cell_type": "code",
   "execution_count": 84,
   "metadata": {
    "id": "RGW1Ybeg3LjF"
   },
   "outputs": [
    {
     "data": {
      "text/plain": [
       "101"
      ]
     },
     "execution_count": 84,
     "metadata": {},
     "output_type": "execute_result"
    }
   ],
   "source": [
    "vacubSize = len(vacub)\n",
    "vacubSize"
   ]
  },
  {
   "cell_type": "markdown",
   "metadata": {
    "id": "2GhCqnrf3sMs"
   },
   "source": [
    "# *Sentance per Document*"
   ]
  },
  {
   "cell_type": "code",
   "execution_count": 85,
   "metadata": {
    "id": "u8lpk9v_3fLn"
   },
   "outputs": [
    {
     "name": "stdout",
     "output_type": "stream",
     "text": [
      "Len of docs :  27\n",
      "No of sentance :  6\n"
     ]
    },
    {
     "data": {
      "text/plain": [
       "0.2222222222222222"
      ]
     },
     "execution_count": 85,
     "metadata": {},
     "output_type": "execute_result"
    }
   ],
   "source": [
    "print(\"Len of docs : \",len(docs))\n",
    "print(\"No of sentance : \", noSent)\n",
    "noSent / len(docs)"
   ]
  },
  {
   "cell_type": "markdown",
   "metadata": {
    "id": "ll-3kP1E31rP"
   },
   "source": [
    "# *words per sentance*"
   ]
  },
  {
   "cell_type": "code",
   "execution_count": 86,
   "metadata": {
    "id": "rkkvbH4S3zpl"
   },
   "outputs": [
    {
     "data": {
      "text/plain": [
       "27.5"
      ]
     },
     "execution_count": 86,
     "metadata": {},
     "output_type": "execute_result"
    }
   ],
   "source": [
    "noWords / noSent"
   ]
  },
  {
   "cell_type": "markdown",
   "metadata": {
    "id": "e1PAM9vs394Y"
   },
   "source": [
    "## *Word per Document*"
   ]
  },
  {
   "cell_type": "code",
   "execution_count": 87,
   "metadata": {
    "id": "2vOhboom37Tm"
   },
   "outputs": [
    {
     "data": {
      "text/plain": [
       "6.111111111111111"
      ]
     },
     "execution_count": 87,
     "metadata": {},
     "output_type": "execute_result"
    }
   ],
   "source": [
    "noWords / len(docs)"
   ]
  },
  {
   "cell_type": "markdown",
   "metadata": {
    "id": "xYRoJAyd4L-P"
   },
   "source": [
    "# *Words per Unique words*"
   ]
  },
  {
   "cell_type": "code",
   "execution_count": 88,
   "metadata": {
    "id": "VPCB7KWl4FKE"
   },
   "outputs": [
    {
     "data": {
      "text/plain": [
       "1.6336633663366336"
      ]
     },
     "execution_count": 88,
     "metadata": {},
     "output_type": "execute_result"
    }
   ],
   "source": [
    "noWords / vacubSize"
   ]
  },
  {
   "cell_type": "markdown",
   "metadata": {
    "id": "-Ij2wxD-4WhY"
   },
   "source": [
    "# *Char per Words*"
   ]
  },
  {
   "cell_type": "code",
   "execution_count": 89,
   "metadata": {
    "id": "q1Cx21O94R_V"
   },
   "outputs": [
    {
     "data": {
      "text/plain": [
       "971"
      ]
     },
     "execution_count": 89,
     "metadata": {},
     "output_type": "execute_result"
    }
   ],
   "source": [
    "nochar = 0\n",
    "for d in docs:\n",
    "    for char in d:\n",
    "        nochar +=1\n",
    "\n",
    "nochar\n",
    "\n",
    "\n",
    "\n"
   ]
  },
  {
   "cell_type": "code",
   "execution_count": 90,
   "metadata": {
    "id": "H6mclINd5B6E"
   },
   "outputs": [
    {
     "data": {
      "text/plain": [
       "5.884848484848485"
      ]
     },
     "execution_count": 90,
     "metadata": {},
     "output_type": "execute_result"
    }
   ],
   "source": [
    "nochar / noWords"
   ]
  },
  {
   "cell_type": "code",
   "execution_count": 91,
   "metadata": {
    "id": "bjnFKvnQ5QKW"
   },
   "outputs": [
    {
     "data": {
      "text/plain": [
       "5.884848484848485"
      ]
     },
     "execution_count": 91,
     "metadata": {},
     "output_type": "execute_result"
    }
   ],
   "source": [
    "# Another option\n",
    "noAllchar = 0\n",
    "for d in docs:\n",
    "    noAllchar +=len(d)\n",
    "\n",
    "noAllchar / noWords"
   ]
  },
  {
   "cell_type": "markdown",
   "metadata": {
    "id": "IkrMr9E_B6fU"
   },
   "source": [
    "# ***Most Frequent Word and Most inFrequent words in Documents***"
   ]
  },
  {
   "cell_type": "code",
   "execution_count": 92,
   "metadata": {
    "id": "k1jvkrIy5_V2"
   },
   "outputs": [
    {
     "name": "stdout",
     "output_type": "stream",
     "text": [
      "Max Frequency :  28\n",
      "Min Frequecy :  1\n"
     ]
    }
   ],
   "source": [
    "wordFreq = {}\n",
    "for d in docs:\n",
    "    words = d.split(\" \")\n",
    "    # print(words)\n",
    "    for word in words:\n",
    "        if word in wordFreq.keys():\n",
    "            wordFreq[word] +=1\n",
    "        else:\n",
    "            wordFreq[word] = 1\n",
    "# wordFreq[\"Coding\"]  # return number of freq\n",
    "maxFreq = max(wordFreq.values())\n",
    "print(\"Max Frequency : \",maxFreq)\n",
    "minFreq = min(wordFreq.values())\n",
    "print(\"Min Frequecy : \",minFreq)\n",
    "\n",
    "\n",
    "minFreqWords = []\n",
    "maxFreqWords = []\n",
    "\n",
    "for key in wordFreq.keys():\n",
    "    if wordFreq[key]==minFreq:\n",
    "        minFreqWords.append(key)\n",
    "    elif wordFreq[key]==maxFreq:\n",
    "        maxFreqWords.append(key)\n",
    "\n"
   ]
  },
  {
   "cell_type": "markdown",
   "metadata": {
    "id": "WRPMc4jlEmVx"
   },
   "source": [
    "### ***Min Frequency words***"
   ]
  },
  {
   "cell_type": "code",
   "execution_count": 93,
   "metadata": {
    "id": "9JD1MFLhCsPo"
   },
   "outputs": [
    {
     "data": {
      "text/plain": [
       "(1,\n",
       " ['culmination',\n",
       "  'nearly',\n",
       "  'four',\n",
       "  'years',\n",
       "  'continuous',\n",
       "  'work,',\n",
       "  'Systemic',\n",
       "  'Neuro-Linguistic',\n",
       "  'Programming',\n",
       "  'New',\n",
       "  'Coding',\n",
       "  'written',\n",
       "  'Robert',\n",
       "  'Dilts',\n",
       "  'Judith',\n",
       "  'DeLozier',\n",
       "  'provides',\n",
       "  'a',\n",
       "  'fascinating',\n",
       "  'guide',\n",
       "  'field',\n",
       "  'NLP.',\n",
       "  'beautifully',\n",
       "  'presented,',\n",
       "  'hardbound',\n",
       "  '2-volume',\n",
       "  'set',\n",
       "  'includes',\n",
       "  'descriptions',\n",
       "  'fundamental',\n",
       "  'techniques',\n",
       "  'definitions',\n",
       "  'core',\n",
       "  'biographical',\n",
       "  'entries',\n",
       "  'developers',\n",
       "  'contributors',\n",
       "  'historical',\n",
       "  'influences',\n",
       "  'were',\n",
       "  'sources',\n",
       "  'ideas',\n",
       "  'exemplars',\n",
       "  'who',\n",
       "  'served',\n",
       "  'as',\n",
       "  'initial',\n",
       "  'fields',\n",
       "  'disciplines.',\n",
       "  'extensive',\n",
       "  'illustrations,',\n",
       "  'tables,',\n",
       "  'charts,',\n",
       "  'worksheets,',\n",
       "  'questionnaires',\n",
       "  'biography',\n",
       "  'reference',\n",
       "  'texts',\n",
       "  'readings',\n",
       "  'index',\n",
       "  'with',\n",
       "  'cross-references',\n",
       "  'A',\n",
       "  'distinguishing',\n",
       "  'feature',\n",
       "  'this',\n",
       "  '.',\n",
       "  'its',\n",
       "  'emphasis',\n",
       "  'on',\n",
       "  'knowledge',\n",
       "  'can.',\n",
       "  'be',\n",
       "  'pragmatically',\n",
       "  'applied',\n",
       "  'your',\n",
       "  'life',\n",
       "  'experience.',\n",
       "  'expressed',\n",
       "  'large',\n",
       "  'number',\n",
       "  'exercises',\n",
       "  'activities.'])"
      ]
     },
     "execution_count": 93,
     "metadata": {},
     "output_type": "execute_result"
    }
   ],
   "source": [
    "minFreq ,minFreqWords"
   ]
  },
  {
   "cell_type": "markdown",
   "metadata": {
    "id": "lBG22r2xFHBu"
   },
   "source": [
    "# ***Max Frequency Words***"
   ]
  },
  {
   "cell_type": "code",
   "execution_count": 94,
   "metadata": {
    "id": "FBOMzQr1EsAA"
   },
   "outputs": [
    {
     "data": {
      "text/plain": [
       "(28, [''])"
      ]
     },
     "execution_count": 94,
     "metadata": {},
     "output_type": "execute_result"
    }
   ],
   "source": [
    "maxFreq ,maxFreqWords"
   ]
  },
  {
   "cell_type": "markdown",
   "metadata": {
    "id": "3tE3z0sML_y4"
   },
   "source": [
    "# ***Finding The longest Token and shortest Token in the Documents***"
   ]
  },
  {
   "cell_type": "code",
   "execution_count": 95,
   "metadata": {
    "id": "5w_MT-anFUAD"
   },
   "outputs": [
    {
     "name": "stdout",
     "output_type": "stream",
     "text": [
      "Requirement already satisfied: stop-words in /home/iffishells/anaconda3/lib/python3.8/site-packages (2018.7.23)\n",
      "['a', 'about', 'above', 'after', 'again', 'against', 'all', 'am', 'an', 'and', 'any', 'are', \"aren't\", 'as', 'at', 'be', 'because', 'been', 'before', 'being', 'below', 'between', 'both', 'but', 'by', \"can't\", 'cannot', 'could', \"couldn't\", 'did', \"didn't\", 'do', 'does', \"doesn't\", 'doing', \"don't\", 'down', 'during', 'each', 'few', 'for', 'from', 'further', 'had', \"hadn't\", 'has', \"hasn't\", 'have', \"haven't\", 'having', 'he', \"he'd\", \"he'll\", \"he's\", 'her', 'here', \"here's\", 'hers', 'herself', 'him', 'himself', 'his', 'how', \"how's\", 'i', \"i'd\", \"i'll\", \"i'm\", \"i've\", 'if', 'in', 'into', 'is', \"isn't\", 'it', \"it's\", 'its', 'itself', \"let's\", 'me', 'more', 'most', \"mustn't\", 'my', 'myself', 'no', 'nor', 'not', 'of', 'off', 'on', 'once', 'only', 'or', 'other', 'ought', 'our', 'ours', 'ourselves', 'out', 'over', 'own', 'same', \"shan't\", 'she', \"she'd\", \"she'll\", \"she's\", 'should', \"shouldn't\", 'so', 'some', 'such', 'than', 'that', \"that's\", 'the', 'their', 'theirs', 'them', 'themselves', 'then', 'there', \"there's\", 'these', 'they', \"they'd\", \"they'll\", \"they're\", \"they've\", 'this', 'those', 'through', 'to', 'too', 'under', 'until', 'up', 'very', 'was', \"wasn't\", 'we', \"we'd\", \"we'll\", \"we're\", \"we've\", 'were', \"weren't\", 'what', \"what's\", 'when', \"when's\", 'where', \"where's\", 'which', 'while', 'who', \"who's\", 'whom', 'why', \"why's\", 'with', \"won't\", 'would', \"wouldn't\", 'you', \"you'd\", \"you'll\", \"you're\", \"you've\", 'your', 'yours', 'yourself', 'yourselves', '.', 'A', '', '.', 'A', '', '.', 'A', '']\n"
     ]
    }
   ],
   "source": [
    "!pip install stop-words\n",
    "\n",
    "from stop_words import get_stop_words\n",
    "\n",
    "stop_words = get_stop_words('en')\n",
    "stop_words = get_stop_words('english')\n",
    "stop_words.append('.')\n",
    "stop_words.append('A')\n",
    "stop_words.append('') \n",
    "\n",
    "print(stop_words)\n",
    "# from stop_words import safe_get_stop_words\n",
    "\n",
    "# stop_words = safe_get_stop_words('unsupported language')"
   ]
  },
  {
   "cell_type": "code",
   "execution_count": 96,
   "metadata": {
    "id": "m5GqhNDuMI7w"
   },
   "outputs": [
    {
     "name": "stdout",
     "output_type": "stream",
     "text": [
      "The\n",
      "culmination\n",
      "nearly\n",
      "four\n",
      "years\n",
      "continuous\n",
      "work,\n",
      "Encyclopedia\n",
      "Systemic\n",
      "Neuro-Linguistic\n",
      "Programming\n",
      "NLP\n",
      "New\n",
      "Coding\n",
      "written\n",
      "Robert\n",
      "Dilts\n",
      "Judith\n",
      "DeLozier\n",
      "provides\n",
      "fascinating\n",
      "comprehensive\n",
      "guide\n",
      "field\n",
      "NLP.\n",
      "This\n",
      "beautifully\n",
      "presented,\n",
      "hardbound\n",
      "2-volume\n",
      "set\n",
      "includes\n",
      "descriptions\n",
      "fundamental\n",
      "techniques\n",
      "models\n",
      "definitions\n",
      "core\n",
      "concepts\n",
      "biographical\n",
      "entries\n",
      "key\n",
      "developers\n",
      "contributors\n",
      "historical\n",
      "influences\n",
      "sources\n",
      "ideas\n",
      "exemplars\n",
      "served\n",
      "initial\n",
      "fields\n",
      "disciplines.\n",
      "related\n",
      "extensive\n",
      "illustrations,\n",
      "tables,\n",
      "charts,\n",
      "worksheets,\n",
      "questionnaires\n",
      "biography\n",
      "reference\n",
      "texts\n",
      "readings\n",
      "index\n",
      "cross-references\n",
      "distinguishing\n",
      "feature\n",
      "emphasis\n",
      "knowledge\n",
      "can.\n",
      "pragmatically\n",
      "applied\n",
      "life\n",
      "experience.\n",
      "expressed\n",
      "large\n",
      "number\n",
      "exercises\n",
      "activities.\n",
      "Min Token Size :  3\n",
      "Max Token Size :  16\n"
     ]
    }
   ],
   "source": [
    "minTokenSize = len(vacub[0])\n",
    "minTokenWords = []\n",
    "\n",
    "maxTokenSize = len(vacub[0])\n",
    "maxTokenWords = []\n",
    "\n",
    "for token in vacub:\n",
    "    if token not in stop_words:\n",
    "        print(token)\n",
    "        if len(token) > maxTokenSize:\n",
    "            maxTokenSize =  len(token)\n",
    "        elif len(token) < minTokenSize:\n",
    "            minTokenSize = len(token)\n",
    "\n",
    "print(\"Min Token Size : \", minTokenSize)\n",
    "print(\"Max Token Size : \",maxTokenSize)\n",
    "for token in vacub:\n",
    "    if token not in stop_words:\n",
    "        if len(token) == maxTokenSize:\n",
    "            maxTokenWords.append(token)\n",
    "        elif len(token) == minTokenSize:\n",
    "            minTokenWords.append(token)\n",
    "\n",
    "\n"
   ]
  },
  {
   "cell_type": "markdown",
   "metadata": {
    "id": "Qt4ym7ULPjGf"
   },
   "source": [
    "# Shorest **words**"
   ]
  },
  {
   "cell_type": "code",
   "execution_count": 97,
   "metadata": {
    "id": "BMz2sfdUMgSS"
   },
   "outputs": [
    {
     "data": {
      "text/plain": [
       "(3, ['The', 'NLP', 'New', 'set', 'key'])"
      ]
     },
     "execution_count": 97,
     "metadata": {},
     "output_type": "execute_result"
    }
   ],
   "source": [
    "minTokenSize , minTokenWords"
   ]
  },
  {
   "cell_type": "markdown",
   "metadata": {
    "id": "zl2Vu9_rPtKY"
   },
   "source": [
    "# Longest **Words**"
   ]
  },
  {
   "cell_type": "code",
   "execution_count": 98,
   "metadata": {
    "id": "d_jvSaayPzBp"
   },
   "outputs": [
    {
     "data": {
      "text/plain": [
       "(16, ['Neuro-Linguistic', 'cross-references'])"
      ]
     },
     "execution_count": 98,
     "metadata": {},
     "output_type": "execute_result"
    }
   ],
   "source": [
    "maxTokenSize , maxTokenWords"
   ]
  },
  {
   "cell_type": "markdown",
   "metadata": {
    "id": "YDQivSGBQP2b"
   },
   "source": [
    "## **Task**\n",
    "\n",
    "---\n",
    "1.   *find the Shortest Documents by Number of words*\n",
    "2.   *Find the Longest Documents by number of Characters*\n",
    "\n",
    "\n"
   ]
  },
  {
   "cell_type": "markdown",
   "metadata": {
    "id": "Fpb3SfHtgAs6"
   },
   "source": [
    "# ***Visual Representation of Words and their Frequency***"
   ]
  },
  {
   "cell_type": "code",
   "execution_count": 99,
   "metadata": {
    "id": "JR9osrpXPpIY"
   },
   "outputs": [
    {
     "data": {
      "image/png": "[encoded data removed]",
      "text/plain": [
       "<Figure size 1440x720 with 1 Axes>"
      ]
     },
     "metadata": {
      "needs_background": "light"
     },
     "output_type": "display_data"
    }
   ],
   "source": [
    "import matplotlib.pyplot as plt\n",
    "plt.figure(figsize=(20, 10))\n",
    "x = list(wordFreq.keys())\n",
    "y = list(wordFreq.values()) \n",
    "plt.plot( x,y)\n",
    "plt.title(\"Big of Picture of Words Frequency\")\n",
    "plt.xlabel(\"Tokens\")\n",
    "plt.ylabel(\"Frequency\")\n",
    "plt.show()"
   ]
  },
  {
   "cell_type": "markdown",
   "metadata": {
    "id": "zxKQUpaNjcQp"
   },
   "source": [
    "## **Other Ways**"
   ]
  },
  {
   "cell_type": "code",
   "execution_count": 100,
   "metadata": {
    "id": "bbIN8HB0gNrs"
   },
   "outputs": [
    {
     "data": {
      "image/png": "[encoded data removed]",
      "text/plain": [
       "<Figure size 1080x720 with 1 Axes>"
      ]
     },
     "metadata": {
      "needs_background": "light"
     },
     "output_type": "display_data"
    }
   ],
   "source": [
    "import matplotlib.pyplot as plt\n",
    "plt.figure(figsize=(15, 10))\n",
    "y = list(wordFreq.values())\n",
    "plt.plot( [i for i in range(len(vacub))],\n",
    "        y)\n",
    "plt.title(\"Big of Picture of Words Frequency\")\n",
    "plt.xlabel(\"Tokens\")\n",
    "plt.ylabel(\"Frequency\")\n",
    "plt.show()"
   ]
  },
  {
   "cell_type": "markdown",
   "metadata": {
    "id": "TIecShb3orz1"
   },
   "source": [
    "# **Keyword Extraction**\n",
    "\n",
    "\n",
    "---\n",
    "Normaly When we are getting the data from the real life then we can't putt all the data into the Machin learning model.Yet what i have Done is only Analysis of Our data .What type of our Data about their frequency and about Growth rate etc.Now we Reached extracting helpfull Data from the Whole data are called Keyword.When we are attracting the keyword from the token  we left the min freq date because they are usaually stopword or missing word and we also left the max freq data because they are usaually stopword .lets come to the implementation\n",
    "\n",
    "\n",
    "\n",
    "\n"
   ]
  },
  {
   "cell_type": "code",
   "execution_count": 126,
   "metadata": {
    "id": "KqvsCtSPiLLC"
   },
   "outputs": [
    {
     "data": {
      "image/png": "[encoded data removed]",
      "text/plain": [
       "<Figure size 432x288 with 1 Axes>"
      ]
     },
     "metadata": {
      "needs_background": "light"
     },
     "output_type": "display_data"
    }
   ],
   "source": [
    "words = list(wordFreq.keys())\n",
    "words\n",
    "freq = list(wordFreq.values())\n",
    "freq\n",
    "temp =  list(zip(freq,words))\n",
    "temp = sorted(temp)\n",
    "temp\n",
    "sorted_freq , sorted_word = zip(*temp)\n",
    "sorted_freq\n",
    "# sorted_word\n",
    "## visualization \n",
    "plt.plot(sorted_word,sorted_freq)\n",
    "plt.title(\"Token Visualization In sorted order\")\n",
    "plt.xlabel(\"Token\")\n",
    "plt.ylabel(\"frequency\")\n",
    "plt.show()"
   ]
  },
  {
   "cell_type": "code",
   "execution_count": 109,
   "metadata": {
    "id": "lUtSJVMwp-xw"
   },
   "outputs": [
    {
     "data": {
      "text/plain": [
       "(1, 1, 1, 1, 1, 1, 1, 2, 2, 10, 28)"
      ]
     },
     "execution_count": 109,
     "metadata": {},
     "output_type": "execute_result"
    }
   ],
   "source": [
    "sorted_freq"
   ]
  },
  {
   "cell_type": "code",
   "execution_count": 110,
   "metadata": {
    "id": "PyAIm7k8rCH7"
   },
   "outputs": [
    {
     "data": {
      "text/plain": [
       "('.', 'c', 'i', 'i', 'i', 't', 'v', 'a', 's', 't', 'e')"
      ]
     },
     "execution_count": 110,
     "metadata": {},
     "output_type": "execute_result"
    }
   ],
   "source": [
    "sorted_word"
   ]
  },
  {
   "cell_type": "code",
   "execution_count": 111,
   "metadata": {
    "id": "7nvbLoScrt2V"
   },
   "outputs": [
    {
     "name": "stdout",
     "output_type": "stream",
     "text": [
      "dict_keys(['The', 'culmination', 'of', 'nearly', 'four', 'years', 'continuous', 'work,', '', 'Encyclopedia', 'Systemic', 'Neuro-Linguistic', 'Programming', 'and', 'NLP', 'New', 'Coding', 'written', 'by', 'Robert', 'Dilts', 'Judith', 'DeLozier', 'provides', 'a', 'fascinating', 'comprehensive', 'guide', 'to', 'the', 'field', 'NLP.', 'This', 'beautifully', 'presented,', 'hardbound', '2-volume', 'set', 'includes', 'descriptions', 'fundamental', 'techniques', 'models', 'definitions', 'core', 'concepts', 'biographical', 'entries', 'for', 'key', 'developers', 'contributors', 'historical', 'influences', 'that', 'were', 'sources', 'ideas', 'exemplars', 'who', 'served', 'as', 'initial', 'fields', 'disciplines.', 'related', 'extensive', 'illustrations,', 'tables,', 'charts,', 'worksheets,', 'questionnaires', 'biography', 'reference', 'texts', 'readings', 'index', 'with', 'cross-references', 'A', 'distinguishing', 'feature', 'this', '.', 'is', 'its', 'emphasis', 'on', 'knowledge', 'can.', 'be', 'pragmatically', 'applied', 'your', 'life', 'experience.', 'expressed', 'large', 'number', 'exercises', 'activities.'])\n"
     ]
    }
   ],
   "source": [
    "print(wordFreq.keys())"
   ]
  },
  {
   "cell_type": "code",
   "execution_count": null,
   "metadata": {},
   "outputs": [],
   "source": []
  }
 ],
 "metadata": {
  "colab": {
   "authorship_tag": "ABX9TyNh26BATLK6iccUVYwWSklw",
   "collapsed_sections": [],
   "include_colab_link": true,
   "name": "Copy of Data-Analysis-Basic-Analysis.ipynb",
   "private_outputs": true,
   "provenance": []
  },
  "kernelspec": {
   "display_name": "Python 3",
   "language": "python",
   "name": "python3"
  },
  "language_info": {
   "codemirror_mode": {
    "name": "ipython",
    "version": 3
   },
   "file_extension": ".py",
   "mimetype": "text/x-python",
   "name": "python",
   "nbconvert_exporter": "python",
   "pygments_lexer": "ipython3",
   "version": "3.8.3"
  }
 },
 "nbformat": 4,
 "nbformat_minor": 4
}
